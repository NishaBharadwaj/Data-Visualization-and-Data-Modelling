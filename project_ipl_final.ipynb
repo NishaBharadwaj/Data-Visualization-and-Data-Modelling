{
 "cells": [
  {
   "cell_type": "markdown",
   "metadata": {},
   "source": [
    "# Predicting the outcome of an IPL match using Random Forest Classifier"
   ]
  },
  {
   "cell_type": "code",
   "execution_count": 1,
   "metadata": {},
   "outputs": [],
   "source": [
    "import numpy as np #linear algebra\n",
    "import pandas as pd #data processing, csv file I/O, data analysis"
   ]
  },
  {
   "cell_type": "markdown",
   "metadata": {},
   "source": [
    "### Data Collection"
   ]
  },
  {
   "cell_type": "code",
   "execution_count": 2,
   "metadata": {},
   "outputs": [],
   "source": [
    "matches=pd.read_csv(\"matches.csv\")"
   ]
  },
  {
   "cell_type": "markdown",
   "metadata": {},
   "source": [
    "### Data Exploration"
   ]
  },
  {
   "cell_type": "code",
   "execution_count": 3,
   "metadata": {},
   "outputs": [
    {
     "name": "stdout",
     "output_type": "stream",
     "text": [
      "<class 'pandas.core.frame.DataFrame'>\n",
      "RangeIndex: 636 entries, 0 to 635\n",
      "Data columns (total 18 columns):\n",
      "id                 636 non-null int64\n",
      "season             636 non-null int64\n",
      "city               629 non-null object\n",
      "date               636 non-null object\n",
      "team1              636 non-null object\n",
      "team2              636 non-null object\n",
      "toss_winner        636 non-null object\n",
      "toss_decision      636 non-null object\n",
      "result             636 non-null object\n",
      "dl_applied         636 non-null int64\n",
      "winner             633 non-null object\n",
      "win_by_runs        636 non-null int64\n",
      "win_by_wickets     636 non-null int64\n",
      "player_of_match    633 non-null object\n",
      "venue              636 non-null object\n",
      "umpire1            635 non-null object\n",
      "umpire2            635 non-null object\n",
      "umpire3            0 non-null float64\n",
      "dtypes: float64(1), int64(5), object(12)\n",
      "memory usage: 89.5+ KB\n"
     ]
    }
   ],
   "source": [
    "matches.info()"
   ]
  },
  {
   "cell_type": "code",
   "execution_count": 4,
   "metadata": {},
   "outputs": [
    {
     "data": {
      "text/html": [
       "<div>\n",
       "<style scoped>\n",
       "    .dataframe tbody tr th:only-of-type {\n",
       "        vertical-align: middle;\n",
       "    }\n",
       "\n",
       "    .dataframe tbody tr th {\n",
       "        vertical-align: top;\n",
       "    }\n",
       "\n",
       "    .dataframe thead th {\n",
       "        text-align: right;\n",
       "    }\n",
       "</style>\n",
       "<table border=\"1\" class=\"dataframe\">\n",
       "  <thead>\n",
       "    <tr style=\"text-align: right;\">\n",
       "      <th></th>\n",
       "      <th>id</th>\n",
       "      <th>season</th>\n",
       "      <th>city</th>\n",
       "      <th>date</th>\n",
       "      <th>team1</th>\n",
       "      <th>team2</th>\n",
       "      <th>toss_winner</th>\n",
       "      <th>toss_decision</th>\n",
       "      <th>result</th>\n",
       "      <th>dl_applied</th>\n",
       "      <th>winner</th>\n",
       "      <th>win_by_runs</th>\n",
       "      <th>win_by_wickets</th>\n",
       "      <th>player_of_match</th>\n",
       "      <th>venue</th>\n",
       "      <th>umpire1</th>\n",
       "      <th>umpire2</th>\n",
       "      <th>umpire3</th>\n",
       "    </tr>\n",
       "  </thead>\n",
       "  <tbody>\n",
       "    <tr>\n",
       "      <th>0</th>\n",
       "      <td>1</td>\n",
       "      <td>2017</td>\n",
       "      <td>Hyderabad</td>\n",
       "      <td>05-04-2017</td>\n",
       "      <td>Sunrisers Hyderabad</td>\n",
       "      <td>Royal Challengers Bangalore</td>\n",
       "      <td>Royal Challengers Bangalore</td>\n",
       "      <td>field</td>\n",
       "      <td>normal</td>\n",
       "      <td>0</td>\n",
       "      <td>Sunrisers Hyderabad</td>\n",
       "      <td>35</td>\n",
       "      <td>0</td>\n",
       "      <td>Yuvraj Singh</td>\n",
       "      <td>Rajiv Gandhi International Stadium, Uppal</td>\n",
       "      <td>AY Dandekar</td>\n",
       "      <td>NJ Llong</td>\n",
       "      <td>NaN</td>\n",
       "    </tr>\n",
       "    <tr>\n",
       "      <th>1</th>\n",
       "      <td>2</td>\n",
       "      <td>2017</td>\n",
       "      <td>Pune</td>\n",
       "      <td>06-04-2017</td>\n",
       "      <td>Mumbai Indians</td>\n",
       "      <td>Rising Pune Supergiant</td>\n",
       "      <td>Rising Pune Supergiant</td>\n",
       "      <td>field</td>\n",
       "      <td>normal</td>\n",
       "      <td>0</td>\n",
       "      <td>Rising Pune Supergiant</td>\n",
       "      <td>0</td>\n",
       "      <td>7</td>\n",
       "      <td>SPD Smith</td>\n",
       "      <td>Maharashtra Cricket Association Stadium</td>\n",
       "      <td>A Nand Kishore</td>\n",
       "      <td>S Ravi</td>\n",
       "      <td>NaN</td>\n",
       "    </tr>\n",
       "    <tr>\n",
       "      <th>2</th>\n",
       "      <td>3</td>\n",
       "      <td>2017</td>\n",
       "      <td>Rajkot</td>\n",
       "      <td>07-04-2017</td>\n",
       "      <td>Gujarat Lions</td>\n",
       "      <td>Kolkata Knight Riders</td>\n",
       "      <td>Kolkata Knight Riders</td>\n",
       "      <td>field</td>\n",
       "      <td>normal</td>\n",
       "      <td>0</td>\n",
       "      <td>Kolkata Knight Riders</td>\n",
       "      <td>0</td>\n",
       "      <td>10</td>\n",
       "      <td>CA Lynn</td>\n",
       "      <td>Saurashtra Cricket Association Stadium</td>\n",
       "      <td>Nitin Menon</td>\n",
       "      <td>CK Nandan</td>\n",
       "      <td>NaN</td>\n",
       "    </tr>\n",
       "    <tr>\n",
       "      <th>3</th>\n",
       "      <td>4</td>\n",
       "      <td>2017</td>\n",
       "      <td>Indore</td>\n",
       "      <td>08-04-2017</td>\n",
       "      <td>Rising Pune Supergiant</td>\n",
       "      <td>Kings XI Punjab</td>\n",
       "      <td>Kings XI Punjab</td>\n",
       "      <td>field</td>\n",
       "      <td>normal</td>\n",
       "      <td>0</td>\n",
       "      <td>Kings XI Punjab</td>\n",
       "      <td>0</td>\n",
       "      <td>6</td>\n",
       "      <td>GJ Maxwell</td>\n",
       "      <td>Holkar Cricket Stadium</td>\n",
       "      <td>AK Chaudhary</td>\n",
       "      <td>C Shamshuddin</td>\n",
       "      <td>NaN</td>\n",
       "    </tr>\n",
       "    <tr>\n",
       "      <th>4</th>\n",
       "      <td>5</td>\n",
       "      <td>2017</td>\n",
       "      <td>Bangalore</td>\n",
       "      <td>08-04-2017</td>\n",
       "      <td>Royal Challengers Bangalore</td>\n",
       "      <td>Delhi Daredevils</td>\n",
       "      <td>Royal Challengers Bangalore</td>\n",
       "      <td>bat</td>\n",
       "      <td>normal</td>\n",
       "      <td>0</td>\n",
       "      <td>Royal Challengers Bangalore</td>\n",
       "      <td>15</td>\n",
       "      <td>0</td>\n",
       "      <td>KM Jadhav</td>\n",
       "      <td>M Chinnaswamy Stadium</td>\n",
       "      <td>NaN</td>\n",
       "      <td>NaN</td>\n",
       "      <td>NaN</td>\n",
       "    </tr>\n",
       "  </tbody>\n",
       "</table>\n",
       "</div>"
      ],
      "text/plain": [
       "   id  season       city        date                        team1  \\\n",
       "0   1    2017  Hyderabad  05-04-2017          Sunrisers Hyderabad   \n",
       "1   2    2017       Pune  06-04-2017               Mumbai Indians   \n",
       "2   3    2017     Rajkot  07-04-2017                Gujarat Lions   \n",
       "3   4    2017     Indore  08-04-2017       Rising Pune Supergiant   \n",
       "4   5    2017  Bangalore  08-04-2017  Royal Challengers Bangalore   \n",
       "\n",
       "                         team2                  toss_winner toss_decision  \\\n",
       "0  Royal Challengers Bangalore  Royal Challengers Bangalore         field   \n",
       "1       Rising Pune Supergiant       Rising Pune Supergiant         field   \n",
       "2        Kolkata Knight Riders        Kolkata Knight Riders         field   \n",
       "3              Kings XI Punjab              Kings XI Punjab         field   \n",
       "4             Delhi Daredevils  Royal Challengers Bangalore           bat   \n",
       "\n",
       "   result  dl_applied                       winner  win_by_runs  \\\n",
       "0  normal           0          Sunrisers Hyderabad           35   \n",
       "1  normal           0       Rising Pune Supergiant            0   \n",
       "2  normal           0        Kolkata Knight Riders            0   \n",
       "3  normal           0              Kings XI Punjab            0   \n",
       "4  normal           0  Royal Challengers Bangalore           15   \n",
       "\n",
       "   win_by_wickets player_of_match                                      venue  \\\n",
       "0               0    Yuvraj Singh  Rajiv Gandhi International Stadium, Uppal   \n",
       "1               7       SPD Smith    Maharashtra Cricket Association Stadium   \n",
       "2              10         CA Lynn     Saurashtra Cricket Association Stadium   \n",
       "3               6      GJ Maxwell                     Holkar Cricket Stadium   \n",
       "4               0       KM Jadhav                      M Chinnaswamy Stadium   \n",
       "\n",
       "          umpire1        umpire2  umpire3  \n",
       "0     AY Dandekar       NJ Llong      NaN  \n",
       "1  A Nand Kishore         S Ravi      NaN  \n",
       "2     Nitin Menon      CK Nandan      NaN  \n",
       "3    AK Chaudhary  C Shamshuddin      NaN  \n",
       "4             NaN            NaN      NaN  "
      ]
     },
     "execution_count": 4,
     "metadata": {},
     "output_type": "execute_result"
    }
   ],
   "source": [
    "matches.head()"
   ]
  },
  {
   "cell_type": "markdown",
   "metadata": {},
   "source": [
    "### Data Cleaning"
   ]
  },
  {
   "cell_type": "code",
   "execution_count": 5,
   "metadata": {},
   "outputs": [
    {
     "data": {
      "text/plain": [
       "id                   0\n",
       "season               0\n",
       "city                 7\n",
       "date                 0\n",
       "team1                0\n",
       "team2                0\n",
       "toss_winner          0\n",
       "toss_decision        0\n",
       "result               0\n",
       "dl_applied           0\n",
       "winner               3\n",
       "win_by_runs          0\n",
       "win_by_wickets       0\n",
       "player_of_match      3\n",
       "venue                0\n",
       "umpire1              1\n",
       "umpire2              1\n",
       "umpire3            636\n",
       "dtype: int64"
      ]
     },
     "execution_count": 5,
     "metadata": {},
     "output_type": "execute_result"
    }
   ],
   "source": [
    "# to find which all columns has null values \n",
    "matches.apply(lambda x:sum(x.isnull()),axis=0)"
   ]
  },
  {
   "cell_type": "code",
   "execution_count": 6,
   "metadata": {},
   "outputs": [
    {
     "name": "stdout",
     "output_type": "stream",
     "text": [
      "3\n"
     ]
    },
    {
     "data": {
      "text/html": [
       "<div>\n",
       "<style scoped>\n",
       "    .dataframe tbody tr th:only-of-type {\n",
       "        vertical-align: middle;\n",
       "    }\n",
       "\n",
       "    .dataframe tbody tr th {\n",
       "        vertical-align: top;\n",
       "    }\n",
       "\n",
       "    .dataframe thead th {\n",
       "        text-align: right;\n",
       "    }\n",
       "</style>\n",
       "<table border=\"1\" class=\"dataframe\">\n",
       "  <thead>\n",
       "    <tr style=\"text-align: right;\">\n",
       "      <th></th>\n",
       "      <th>id</th>\n",
       "      <th>season</th>\n",
       "      <th>city</th>\n",
       "      <th>date</th>\n",
       "      <th>team1</th>\n",
       "      <th>team2</th>\n",
       "      <th>toss_winner</th>\n",
       "      <th>toss_decision</th>\n",
       "      <th>result</th>\n",
       "      <th>dl_applied</th>\n",
       "      <th>winner</th>\n",
       "      <th>win_by_runs</th>\n",
       "      <th>win_by_wickets</th>\n",
       "      <th>player_of_match</th>\n",
       "      <th>venue</th>\n",
       "      <th>umpire1</th>\n",
       "      <th>umpire2</th>\n",
       "      <th>umpire3</th>\n",
       "    </tr>\n",
       "  </thead>\n",
       "  <tbody>\n",
       "    <tr>\n",
       "      <th>300</th>\n",
       "      <td>301</td>\n",
       "      <td>2011</td>\n",
       "      <td>Delhi</td>\n",
       "      <td>21-05-2011</td>\n",
       "      <td>Delhi Daredevils</td>\n",
       "      <td>Pune Warriors</td>\n",
       "      <td>Delhi Daredevils</td>\n",
       "      <td>bat</td>\n",
       "      <td>no result</td>\n",
       "      <td>0</td>\n",
       "      <td>NaN</td>\n",
       "      <td>0</td>\n",
       "      <td>0</td>\n",
       "      <td>NaN</td>\n",
       "      <td>Feroz Shah Kotla</td>\n",
       "      <td>SS Hazare</td>\n",
       "      <td>RJ Tucker</td>\n",
       "      <td>NaN</td>\n",
       "    </tr>\n",
       "    <tr>\n",
       "      <th>545</th>\n",
       "      <td>546</td>\n",
       "      <td>2015</td>\n",
       "      <td>Bangalore</td>\n",
       "      <td>29-04-2015</td>\n",
       "      <td>Royal Challengers Bangalore</td>\n",
       "      <td>Rajasthan Royals</td>\n",
       "      <td>Rajasthan Royals</td>\n",
       "      <td>field</td>\n",
       "      <td>no result</td>\n",
       "      <td>0</td>\n",
       "      <td>NaN</td>\n",
       "      <td>0</td>\n",
       "      <td>0</td>\n",
       "      <td>NaN</td>\n",
       "      <td>M Chinnaswamy Stadium</td>\n",
       "      <td>JD Cloete</td>\n",
       "      <td>PG Pathak</td>\n",
       "      <td>NaN</td>\n",
       "    </tr>\n",
       "    <tr>\n",
       "      <th>570</th>\n",
       "      <td>571</td>\n",
       "      <td>2015</td>\n",
       "      <td>Bangalore</td>\n",
       "      <td>17-05-2015</td>\n",
       "      <td>Delhi Daredevils</td>\n",
       "      <td>Royal Challengers Bangalore</td>\n",
       "      <td>Royal Challengers Bangalore</td>\n",
       "      <td>field</td>\n",
       "      <td>no result</td>\n",
       "      <td>0</td>\n",
       "      <td>NaN</td>\n",
       "      <td>0</td>\n",
       "      <td>0</td>\n",
       "      <td>NaN</td>\n",
       "      <td>M Chinnaswamy Stadium</td>\n",
       "      <td>HDPK Dharmasena</td>\n",
       "      <td>K Srinivasan</td>\n",
       "      <td>NaN</td>\n",
       "    </tr>\n",
       "  </tbody>\n",
       "</table>\n",
       "</div>"
      ],
      "text/plain": [
       "      id  season       city        date                        team1  \\\n",
       "300  301    2011      Delhi  21-05-2011             Delhi Daredevils   \n",
       "545  546    2015  Bangalore  29-04-2015  Royal Challengers Bangalore   \n",
       "570  571    2015  Bangalore  17-05-2015             Delhi Daredevils   \n",
       "\n",
       "                           team2                  toss_winner toss_decision  \\\n",
       "300                Pune Warriors             Delhi Daredevils           bat   \n",
       "545             Rajasthan Royals             Rajasthan Royals         field   \n",
       "570  Royal Challengers Bangalore  Royal Challengers Bangalore         field   \n",
       "\n",
       "        result  dl_applied winner  win_by_runs  win_by_wickets  \\\n",
       "300  no result           0    NaN            0               0   \n",
       "545  no result           0    NaN            0               0   \n",
       "570  no result           0    NaN            0               0   \n",
       "\n",
       "    player_of_match                  venue          umpire1       umpire2  \\\n",
       "300             NaN       Feroz Shah Kotla        SS Hazare     RJ Tucker   \n",
       "545             NaN  M Chinnaswamy Stadium        JD Cloete     PG Pathak   \n",
       "570             NaN  M Chinnaswamy Stadium  HDPK Dharmasena  K Srinivasan   \n",
       "\n",
       "     umpire3  \n",
       "300      NaN  \n",
       "545      NaN  \n",
       "570      NaN  "
      ]
     },
     "execution_count": 6,
     "metadata": {},
     "output_type": "execute_result"
    }
   ],
   "source": [
    "#printing the rows where the winner is null\n",
    "print(len(matches[pd.isnull(matches['winner'])]))\n",
    "matches[pd.isnull(matches['winner'])]"
   ]
  },
  {
   "cell_type": "code",
   "execution_count": 7,
   "metadata": {},
   "outputs": [],
   "source": [
    "#filling those null values with \"draw\"\n",
    "matches['winner'].fillna('Draw',inplace=True)"
   ]
  },
  {
   "cell_type": "code",
   "execution_count": 8,
   "metadata": {},
   "outputs": [
    {
     "data": {
      "text/plain": [
       "0"
      ]
     },
     "execution_count": 8,
     "metadata": {},
     "output_type": "execute_result"
    }
   ],
   "source": [
    "len(matches[pd.isnull(matches['winner'])])"
   ]
  },
  {
   "cell_type": "code",
   "execution_count": 9,
   "metadata": {},
   "outputs": [
    {
     "name": "stdout",
     "output_type": "stream",
     "text": [
      "7\n"
     ]
    },
    {
     "data": {
      "text/html": [
       "<div>\n",
       "<style scoped>\n",
       "    .dataframe tbody tr th:only-of-type {\n",
       "        vertical-align: middle;\n",
       "    }\n",
       "\n",
       "    .dataframe tbody tr th {\n",
       "        vertical-align: top;\n",
       "    }\n",
       "\n",
       "    .dataframe thead th {\n",
       "        text-align: right;\n",
       "    }\n",
       "</style>\n",
       "<table border=\"1\" class=\"dataframe\">\n",
       "  <thead>\n",
       "    <tr style=\"text-align: right;\">\n",
       "      <th></th>\n",
       "      <th>id</th>\n",
       "      <th>season</th>\n",
       "      <th>city</th>\n",
       "      <th>date</th>\n",
       "      <th>team1</th>\n",
       "      <th>team2</th>\n",
       "      <th>toss_winner</th>\n",
       "      <th>toss_decision</th>\n",
       "      <th>result</th>\n",
       "      <th>dl_applied</th>\n",
       "      <th>winner</th>\n",
       "      <th>win_by_runs</th>\n",
       "      <th>win_by_wickets</th>\n",
       "      <th>player_of_match</th>\n",
       "      <th>venue</th>\n",
       "      <th>umpire1</th>\n",
       "      <th>umpire2</th>\n",
       "      <th>umpire3</th>\n",
       "    </tr>\n",
       "  </thead>\n",
       "  <tbody>\n",
       "    <tr>\n",
       "      <th>461</th>\n",
       "      <td>462</td>\n",
       "      <td>2014</td>\n",
       "      <td>NaN</td>\n",
       "      <td>19-04-2014</td>\n",
       "      <td>Mumbai Indians</td>\n",
       "      <td>Royal Challengers Bangalore</td>\n",
       "      <td>Royal Challengers Bangalore</td>\n",
       "      <td>field</td>\n",
       "      <td>normal</td>\n",
       "      <td>0</td>\n",
       "      <td>Royal Challengers Bangalore</td>\n",
       "      <td>0</td>\n",
       "      <td>7</td>\n",
       "      <td>PA Patel</td>\n",
       "      <td>Dubai International Cricket Stadium</td>\n",
       "      <td>Aleem Dar</td>\n",
       "      <td>AK Chaudhary</td>\n",
       "      <td>NaN</td>\n",
       "    </tr>\n",
       "    <tr>\n",
       "      <th>462</th>\n",
       "      <td>463</td>\n",
       "      <td>2014</td>\n",
       "      <td>NaN</td>\n",
       "      <td>19-04-2014</td>\n",
       "      <td>Kolkata Knight Riders</td>\n",
       "      <td>Delhi Daredevils</td>\n",
       "      <td>Kolkata Knight Riders</td>\n",
       "      <td>bat</td>\n",
       "      <td>normal</td>\n",
       "      <td>0</td>\n",
       "      <td>Delhi Daredevils</td>\n",
       "      <td>0</td>\n",
       "      <td>4</td>\n",
       "      <td>JP Duminy</td>\n",
       "      <td>Dubai International Cricket Stadium</td>\n",
       "      <td>Aleem Dar</td>\n",
       "      <td>VA Kulkarni</td>\n",
       "      <td>NaN</td>\n",
       "    </tr>\n",
       "    <tr>\n",
       "      <th>466</th>\n",
       "      <td>467</td>\n",
       "      <td>2014</td>\n",
       "      <td>NaN</td>\n",
       "      <td>23-04-2014</td>\n",
       "      <td>Chennai Super Kings</td>\n",
       "      <td>Rajasthan Royals</td>\n",
       "      <td>Rajasthan Royals</td>\n",
       "      <td>field</td>\n",
       "      <td>normal</td>\n",
       "      <td>0</td>\n",
       "      <td>Chennai Super Kings</td>\n",
       "      <td>7</td>\n",
       "      <td>0</td>\n",
       "      <td>RA Jadeja</td>\n",
       "      <td>Dubai International Cricket Stadium</td>\n",
       "      <td>HDPK Dharmasena</td>\n",
       "      <td>RK Illingworth</td>\n",
       "      <td>NaN</td>\n",
       "    </tr>\n",
       "    <tr>\n",
       "      <th>468</th>\n",
       "      <td>469</td>\n",
       "      <td>2014</td>\n",
       "      <td>NaN</td>\n",
       "      <td>25-04-2014</td>\n",
       "      <td>Sunrisers Hyderabad</td>\n",
       "      <td>Delhi Daredevils</td>\n",
       "      <td>Sunrisers Hyderabad</td>\n",
       "      <td>bat</td>\n",
       "      <td>normal</td>\n",
       "      <td>0</td>\n",
       "      <td>Sunrisers Hyderabad</td>\n",
       "      <td>4</td>\n",
       "      <td>0</td>\n",
       "      <td>AJ Finch</td>\n",
       "      <td>Dubai International Cricket Stadium</td>\n",
       "      <td>M Erasmus</td>\n",
       "      <td>S Ravi</td>\n",
       "      <td>NaN</td>\n",
       "    </tr>\n",
       "    <tr>\n",
       "      <th>469</th>\n",
       "      <td>470</td>\n",
       "      <td>2014</td>\n",
       "      <td>NaN</td>\n",
       "      <td>25-04-2014</td>\n",
       "      <td>Mumbai Indians</td>\n",
       "      <td>Chennai Super Kings</td>\n",
       "      <td>Mumbai Indians</td>\n",
       "      <td>bat</td>\n",
       "      <td>normal</td>\n",
       "      <td>0</td>\n",
       "      <td>Chennai Super Kings</td>\n",
       "      <td>0</td>\n",
       "      <td>7</td>\n",
       "      <td>MM Sharma</td>\n",
       "      <td>Dubai International Cricket Stadium</td>\n",
       "      <td>BF Bowden</td>\n",
       "      <td>M Erasmus</td>\n",
       "      <td>NaN</td>\n",
       "    </tr>\n",
       "    <tr>\n",
       "      <th>474</th>\n",
       "      <td>475</td>\n",
       "      <td>2014</td>\n",
       "      <td>NaN</td>\n",
       "      <td>28-04-2014</td>\n",
       "      <td>Royal Challengers Bangalore</td>\n",
       "      <td>Kings XI Punjab</td>\n",
       "      <td>Kings XI Punjab</td>\n",
       "      <td>field</td>\n",
       "      <td>normal</td>\n",
       "      <td>0</td>\n",
       "      <td>Kings XI Punjab</td>\n",
       "      <td>0</td>\n",
       "      <td>5</td>\n",
       "      <td>Sandeep Sharma</td>\n",
       "      <td>Dubai International Cricket Stadium</td>\n",
       "      <td>BF Bowden</td>\n",
       "      <td>S Ravi</td>\n",
       "      <td>NaN</td>\n",
       "    </tr>\n",
       "    <tr>\n",
       "      <th>476</th>\n",
       "      <td>477</td>\n",
       "      <td>2014</td>\n",
       "      <td>NaN</td>\n",
       "      <td>30-04-2014</td>\n",
       "      <td>Sunrisers Hyderabad</td>\n",
       "      <td>Mumbai Indians</td>\n",
       "      <td>Mumbai Indians</td>\n",
       "      <td>field</td>\n",
       "      <td>normal</td>\n",
       "      <td>0</td>\n",
       "      <td>Sunrisers Hyderabad</td>\n",
       "      <td>15</td>\n",
       "      <td>0</td>\n",
       "      <td>B Kumar</td>\n",
       "      <td>Dubai International Cricket Stadium</td>\n",
       "      <td>HDPK Dharmasena</td>\n",
       "      <td>M Erasmus</td>\n",
       "      <td>NaN</td>\n",
       "    </tr>\n",
       "  </tbody>\n",
       "</table>\n",
       "</div>"
      ],
      "text/plain": [
       "      id  season city        date                        team1  \\\n",
       "461  462    2014  NaN  19-04-2014               Mumbai Indians   \n",
       "462  463    2014  NaN  19-04-2014        Kolkata Knight Riders   \n",
       "466  467    2014  NaN  23-04-2014          Chennai Super Kings   \n",
       "468  469    2014  NaN  25-04-2014          Sunrisers Hyderabad   \n",
       "469  470    2014  NaN  25-04-2014               Mumbai Indians   \n",
       "474  475    2014  NaN  28-04-2014  Royal Challengers Bangalore   \n",
       "476  477    2014  NaN  30-04-2014          Sunrisers Hyderabad   \n",
       "\n",
       "                           team2                  toss_winner toss_decision  \\\n",
       "461  Royal Challengers Bangalore  Royal Challengers Bangalore         field   \n",
       "462             Delhi Daredevils        Kolkata Knight Riders           bat   \n",
       "466             Rajasthan Royals             Rajasthan Royals         field   \n",
       "468             Delhi Daredevils          Sunrisers Hyderabad           bat   \n",
       "469          Chennai Super Kings               Mumbai Indians           bat   \n",
       "474              Kings XI Punjab              Kings XI Punjab         field   \n",
       "476               Mumbai Indians               Mumbai Indians         field   \n",
       "\n",
       "     result  dl_applied                       winner  win_by_runs  \\\n",
       "461  normal           0  Royal Challengers Bangalore            0   \n",
       "462  normal           0             Delhi Daredevils            0   \n",
       "466  normal           0          Chennai Super Kings            7   \n",
       "468  normal           0          Sunrisers Hyderabad            4   \n",
       "469  normal           0          Chennai Super Kings            0   \n",
       "474  normal           0              Kings XI Punjab            0   \n",
       "476  normal           0          Sunrisers Hyderabad           15   \n",
       "\n",
       "     win_by_wickets player_of_match                                venue  \\\n",
       "461               7        PA Patel  Dubai International Cricket Stadium   \n",
       "462               4       JP Duminy  Dubai International Cricket Stadium   \n",
       "466               0       RA Jadeja  Dubai International Cricket Stadium   \n",
       "468               0        AJ Finch  Dubai International Cricket Stadium   \n",
       "469               7       MM Sharma  Dubai International Cricket Stadium   \n",
       "474               5  Sandeep Sharma  Dubai International Cricket Stadium   \n",
       "476               0         B Kumar  Dubai International Cricket Stadium   \n",
       "\n",
       "             umpire1         umpire2  umpire3  \n",
       "461        Aleem Dar    AK Chaudhary      NaN  \n",
       "462        Aleem Dar     VA Kulkarni      NaN  \n",
       "466  HDPK Dharmasena  RK Illingworth      NaN  \n",
       "468        M Erasmus          S Ravi      NaN  \n",
       "469        BF Bowden       M Erasmus      NaN  \n",
       "474        BF Bowden          S Ravi      NaN  \n",
       "476  HDPK Dharmasena       M Erasmus      NaN  "
      ]
     },
     "execution_count": 9,
     "metadata": {},
     "output_type": "execute_result"
    }
   ],
   "source": [
    "print(len(matches[pd.isnull(matches['city'])]))\n",
    "matches[pd.isnull(matches['city'])]"
   ]
  },
  {
   "cell_type": "code",
   "execution_count": 10,
   "metadata": {},
   "outputs": [],
   "source": [
    "matches['city'].fillna('Dubai',inplace=True)"
   ]
  },
  {
   "cell_type": "code",
   "execution_count": 11,
   "metadata": {},
   "outputs": [
    {
     "data": {
      "text/plain": [
       "0"
      ]
     },
     "execution_count": 11,
     "metadata": {},
     "output_type": "execute_result"
    }
   ],
   "source": [
    "len(matches[pd.isnull(matches['city'])])"
   ]
  },
  {
   "cell_type": "markdown",
   "metadata": {},
   "source": [
    "### Data Preprocessing"
   ]
  },
  {
   "cell_type": "code",
   "execution_count": 12,
   "metadata": {},
   "outputs": [
    {
     "data": {
      "text/html": [
       "<div>\n",
       "<style scoped>\n",
       "    .dataframe tbody tr th:only-of-type {\n",
       "        vertical-align: middle;\n",
       "    }\n",
       "\n",
       "    .dataframe tbody tr th {\n",
       "        vertical-align: top;\n",
       "    }\n",
       "\n",
       "    .dataframe thead th {\n",
       "        text-align: right;\n",
       "    }\n",
       "</style>\n",
       "<table border=\"1\" class=\"dataframe\">\n",
       "  <thead>\n",
       "    <tr style=\"text-align: right;\">\n",
       "      <th></th>\n",
       "      <th>id</th>\n",
       "      <th>season</th>\n",
       "      <th>city</th>\n",
       "      <th>date</th>\n",
       "      <th>team1</th>\n",
       "      <th>team2</th>\n",
       "      <th>toss_winner</th>\n",
       "      <th>toss_decision</th>\n",
       "      <th>result</th>\n",
       "      <th>dl_applied</th>\n",
       "      <th>winner</th>\n",
       "      <th>win_by_runs</th>\n",
       "      <th>win_by_wickets</th>\n",
       "      <th>player_of_match</th>\n",
       "      <th>venue</th>\n",
       "      <th>umpire1</th>\n",
       "      <th>umpire2</th>\n",
       "      <th>umpire3</th>\n",
       "    </tr>\n",
       "  </thead>\n",
       "  <tbody>\n",
       "    <tr>\n",
       "      <th>0</th>\n",
       "      <td>1</td>\n",
       "      <td>2017</td>\n",
       "      <td>Hyderabad</td>\n",
       "      <td>05-04-2017</td>\n",
       "      <td>SRH</td>\n",
       "      <td>RCB</td>\n",
       "      <td>RCB</td>\n",
       "      <td>field</td>\n",
       "      <td>normal</td>\n",
       "      <td>0</td>\n",
       "      <td>SRH</td>\n",
       "      <td>35</td>\n",
       "      <td>0</td>\n",
       "      <td>Yuvraj Singh</td>\n",
       "      <td>Rajiv Gandhi International Stadium, Uppal</td>\n",
       "      <td>AY Dandekar</td>\n",
       "      <td>NJ Llong</td>\n",
       "      <td>NaN</td>\n",
       "    </tr>\n",
       "    <tr>\n",
       "      <th>1</th>\n",
       "      <td>2</td>\n",
       "      <td>2017</td>\n",
       "      <td>Pune</td>\n",
       "      <td>06-04-2017</td>\n",
       "      <td>MI</td>\n",
       "      <td>RPS</td>\n",
       "      <td>RPS</td>\n",
       "      <td>field</td>\n",
       "      <td>normal</td>\n",
       "      <td>0</td>\n",
       "      <td>RPS</td>\n",
       "      <td>0</td>\n",
       "      <td>7</td>\n",
       "      <td>SPD Smith</td>\n",
       "      <td>Maharashtra Cricket Association Stadium</td>\n",
       "      <td>A Nand Kishore</td>\n",
       "      <td>S Ravi</td>\n",
       "      <td>NaN</td>\n",
       "    </tr>\n",
       "    <tr>\n",
       "      <th>2</th>\n",
       "      <td>3</td>\n",
       "      <td>2017</td>\n",
       "      <td>Rajkot</td>\n",
       "      <td>07-04-2017</td>\n",
       "      <td>GL</td>\n",
       "      <td>KKR</td>\n",
       "      <td>KKR</td>\n",
       "      <td>field</td>\n",
       "      <td>normal</td>\n",
       "      <td>0</td>\n",
       "      <td>KKR</td>\n",
       "      <td>0</td>\n",
       "      <td>10</td>\n",
       "      <td>CA Lynn</td>\n",
       "      <td>Saurashtra Cricket Association Stadium</td>\n",
       "      <td>Nitin Menon</td>\n",
       "      <td>CK Nandan</td>\n",
       "      <td>NaN</td>\n",
       "    </tr>\n",
       "  </tbody>\n",
       "</table>\n",
       "</div>"
      ],
      "text/plain": [
       "   id  season       city        date team1 team2 toss_winner toss_decision  \\\n",
       "0   1    2017  Hyderabad  05-04-2017   SRH   RCB         RCB         field   \n",
       "1   2    2017       Pune  06-04-2017    MI   RPS         RPS         field   \n",
       "2   3    2017     Rajkot  07-04-2017    GL   KKR         KKR         field   \n",
       "\n",
       "   result  dl_applied winner  win_by_runs  win_by_wickets player_of_match  \\\n",
       "0  normal           0    SRH           35               0    Yuvraj Singh   \n",
       "1  normal           0    RPS            0               7       SPD Smith   \n",
       "2  normal           0    KKR            0              10         CA Lynn   \n",
       "\n",
       "                                       venue         umpire1    umpire2  \\\n",
       "0  Rajiv Gandhi International Stadium, Uppal     AY Dandekar   NJ Llong   \n",
       "1    Maharashtra Cricket Association Stadium  A Nand Kishore     S Ravi   \n",
       "2     Saurashtra Cricket Association Stadium     Nitin Menon  CK Nandan   \n",
       "\n",
       "   umpire3  \n",
       "0      NaN  \n",
       "1      NaN  \n",
       "2      NaN  "
      ]
     },
     "execution_count": 12,
     "metadata": {},
     "output_type": "execute_result"
    }
   ],
   "source": [
    "#replacing team names with their short forms\n",
    "matches.replace(['Mumbai Indians','Kolkata Knight Riders','Royal Challengers Bangalore','Deccan Chargers','Chennai Super Kings',\n",
    "                 'Rajasthan Royals','Delhi Daredevils','Gujarat Lions','Kings XI Punjab',\n",
    "                 'Sunrisers Hyderabad','Rising Pune Supergiants','Rising Pune Supergiant','Kochi Tuskers Kerala','Pune Warriors']\n",
    "                ,['MI','KKR','RCB','DC','CSK','RR','DD','GL','KXIP','SRH','RPS','RPS','KTK','PW'],inplace=True)\n",
    "matches.head(3)"
   ]
  },
  {
   "cell_type": "code",
   "execution_count": 13,
   "metadata": {},
   "outputs": [
    {
     "data": {
      "text/html": [
       "<div>\n",
       "<style scoped>\n",
       "    .dataframe tbody tr th:only-of-type {\n",
       "        vertical-align: middle;\n",
       "    }\n",
       "\n",
       "    .dataframe tbody tr th {\n",
       "        vertical-align: top;\n",
       "    }\n",
       "\n",
       "    .dataframe thead th {\n",
       "        text-align: right;\n",
       "    }\n",
       "</style>\n",
       "<table border=\"1\" class=\"dataframe\">\n",
       "  <thead>\n",
       "    <tr style=\"text-align: right;\">\n",
       "      <th></th>\n",
       "      <th>id</th>\n",
       "      <th>season</th>\n",
       "      <th>city</th>\n",
       "      <th>date</th>\n",
       "      <th>team1</th>\n",
       "      <th>team2</th>\n",
       "      <th>toss_winner</th>\n",
       "      <th>toss_decision</th>\n",
       "      <th>result</th>\n",
       "      <th>dl_applied</th>\n",
       "      <th>winner</th>\n",
       "      <th>win_by_runs</th>\n",
       "      <th>win_by_wickets</th>\n",
       "      <th>player_of_match</th>\n",
       "      <th>venue</th>\n",
       "      <th>umpire1</th>\n",
       "      <th>umpire2</th>\n",
       "      <th>umpire3</th>\n",
       "    </tr>\n",
       "  </thead>\n",
       "  <tbody>\n",
       "    <tr>\n",
       "      <th>0</th>\n",
       "      <td>1</td>\n",
       "      <td>2017</td>\n",
       "      <td>Hyderabad</td>\n",
       "      <td>05-04-2017</td>\n",
       "      <td>10</td>\n",
       "      <td>3</td>\n",
       "      <td>3</td>\n",
       "      <td>field</td>\n",
       "      <td>normal</td>\n",
       "      <td>0</td>\n",
       "      <td>10</td>\n",
       "      <td>35</td>\n",
       "      <td>0</td>\n",
       "      <td>Yuvraj Singh</td>\n",
       "      <td>Rajiv Gandhi International Stadium, Uppal</td>\n",
       "      <td>AY Dandekar</td>\n",
       "      <td>NJ Llong</td>\n",
       "      <td>NaN</td>\n",
       "    </tr>\n",
       "    <tr>\n",
       "      <th>1</th>\n",
       "      <td>2</td>\n",
       "      <td>2017</td>\n",
       "      <td>Pune</td>\n",
       "      <td>06-04-2017</td>\n",
       "      <td>1</td>\n",
       "      <td>11</td>\n",
       "      <td>11</td>\n",
       "      <td>field</td>\n",
       "      <td>normal</td>\n",
       "      <td>0</td>\n",
       "      <td>11</td>\n",
       "      <td>0</td>\n",
       "      <td>7</td>\n",
       "      <td>SPD Smith</td>\n",
       "      <td>Maharashtra Cricket Association Stadium</td>\n",
       "      <td>A Nand Kishore</td>\n",
       "      <td>S Ravi</td>\n",
       "      <td>NaN</td>\n",
       "    </tr>\n",
       "  </tbody>\n",
       "</table>\n",
       "</div>"
      ],
      "text/plain": [
       "   id  season       city        date  team1  team2  toss_winner toss_decision  \\\n",
       "0   1    2017  Hyderabad  05-04-2017     10      3            3         field   \n",
       "1   2    2017       Pune  06-04-2017      1     11           11         field   \n",
       "\n",
       "   result  dl_applied  winner  win_by_runs  win_by_wickets player_of_match  \\\n",
       "0  normal           0      10           35               0    Yuvraj Singh   \n",
       "1  normal           0      11            0               7       SPD Smith   \n",
       "\n",
       "                                       venue         umpire1   umpire2  \\\n",
       "0  Rajiv Gandhi International Stadium, Uppal     AY Dandekar  NJ Llong   \n",
       "1    Maharashtra Cricket Association Stadium  A Nand Kishore    S Ravi   \n",
       "\n",
       "   umpire3  \n",
       "0      NaN  \n",
       "1      NaN  "
      ]
     },
     "execution_count": 13,
     "metadata": {},
     "output_type": "execute_result"
    }
   ],
   "source": [
    "#replacing team short names with their respective integers in the columns team1,team2,toss_winner,winner\n",
    "encode = {'team1': {'MI':1,'KKR':2,'RCB':3,'DC':4,'CSK':5,'RR':6,'DD':7,'GL':8,'KXIP':9,'SRH':10,'RPS':11,'KTK':12,'PW':13},\n",
    "          'team2': {'MI':1,'KKR':2,'RCB':3,'DC':4,'CSK':5,'RR':6,'DD':7,'GL':8,'KXIP':9,'SRH':10,'RPS':11,'KTK':12,'PW':13},\n",
    "          'toss_winner': {'MI':1,'KKR':2,'RCB':3,'DC':4,'CSK':5,'RR':6,'DD':7,'GL':8,'KXIP':9,'SRH':10,'RPS':11,'KTK':12,'PW':13},\n",
    "          'winner': {'MI':1,'KKR':2,'RCB':3,'DC':4,'CSK':5,'RR':6,'DD':7,'GL':8,'KXIP':9,'SRH':10,'RPS':11,'KTK':12,'PW':13,'Draw':14}}\n",
    "matches.replace(encode, inplace=True)\n",
    "matches.head(2)"
   ]
  },
  {
   "cell_type": "code",
   "execution_count": 14,
   "metadata": {},
   "outputs": [
    {
     "name": "stdout",
     "output_type": "stream",
     "text": [
      "85\n",
      "92\n"
     ]
    }
   ],
   "source": [
    "xx=matches.groupby(['toss_winner']).size()\n",
    "# for key,value in xx.iteritems():\n",
    "#      print(key,\"   \",value,\"\\n\")\n",
    "print(xx.at[1])\n",
    "yy=matches.groupby(['winner']).size()\n",
    "# for key,value in yy.iteritems():\n",
    "#      print(key,\"   \",value,\"\\n\")\n",
    "print(yy.at[1])"
   ]
  },
  {
   "cell_type": "code",
   "execution_count": 15,
   "metadata": {},
   "outputs": [
    {
     "name": "stdout",
     "output_type": "stream",
     "text": [
      "2\n",
      "KKR\n"
     ]
    }
   ],
   "source": [
    "dicVal = encode['winner']\n",
    "print(dicVal['KKR']) #find value by key\n",
    "print(list(dicVal.keys())[list(dicVal.values()).index(2)]) #find key by value search "
   ]
  },
  {
   "cell_type": "code",
   "execution_count": 16,
   "metadata": {},
   "outputs": [
    {
     "data": {
      "text/html": [
       "<div>\n",
       "<style scoped>\n",
       "    .dataframe tbody tr th:only-of-type {\n",
       "        vertical-align: middle;\n",
       "    }\n",
       "\n",
       "    .dataframe tbody tr th {\n",
       "        vertical-align: top;\n",
       "    }\n",
       "\n",
       "    .dataframe thead th {\n",
       "        text-align: right;\n",
       "    }\n",
       "</style>\n",
       "<table border=\"1\" class=\"dataframe\">\n",
       "  <thead>\n",
       "    <tr style=\"text-align: right;\">\n",
       "      <th></th>\n",
       "      <th>team1</th>\n",
       "      <th>team2</th>\n",
       "      <th>city</th>\n",
       "      <th>toss_decision</th>\n",
       "      <th>toss_winner</th>\n",
       "      <th>venue</th>\n",
       "      <th>winner</th>\n",
       "    </tr>\n",
       "  </thead>\n",
       "  <tbody>\n",
       "    <tr>\n",
       "      <th>0</th>\n",
       "      <td>10</td>\n",
       "      <td>3</td>\n",
       "      <td>Hyderabad</td>\n",
       "      <td>field</td>\n",
       "      <td>3</td>\n",
       "      <td>Rajiv Gandhi International Stadium, Uppal</td>\n",
       "      <td>10</td>\n",
       "    </tr>\n",
       "    <tr>\n",
       "      <th>1</th>\n",
       "      <td>1</td>\n",
       "      <td>11</td>\n",
       "      <td>Pune</td>\n",
       "      <td>field</td>\n",
       "      <td>11</td>\n",
       "      <td>Maharashtra Cricket Association Stadium</td>\n",
       "      <td>11</td>\n",
       "    </tr>\n",
       "  </tbody>\n",
       "</table>\n",
       "</div>"
      ],
      "text/plain": [
       "   team1  team2       city toss_decision  toss_winner  \\\n",
       "0     10      3  Hyderabad         field            3   \n",
       "1      1     11       Pune         field           11   \n",
       "\n",
       "                                       venue  winner  \n",
       "0  Rajiv Gandhi International Stadium, Uppal      10  \n",
       "1    Maharashtra Cricket Association Stadium      11  "
      ]
     },
     "execution_count": 16,
     "metadata": {},
     "output_type": "execute_result"
    }
   ],
   "source": [
    "#considering only the required columns\n",
    "matches = matches[['team1','team2','city','toss_decision','toss_winner','venue','winner']]\n",
    "matches.head(2)"
   ]
  },
  {
   "cell_type": "code",
   "execution_count": 18,
   "metadata": {},
   "outputs": [
    {
     "data": {
      "text/html": [
       "<div>\n",
       "<style scoped>\n",
       "    .dataframe tbody tr th:only-of-type {\n",
       "        vertical-align: middle;\n",
       "    }\n",
       "\n",
       "    .dataframe tbody tr th {\n",
       "        vertical-align: top;\n",
       "    }\n",
       "\n",
       "    .dataframe thead th {\n",
       "        text-align: right;\n",
       "    }\n",
       "</style>\n",
       "<table border=\"1\" class=\"dataframe\">\n",
       "  <thead>\n",
       "    <tr style=\"text-align: right;\">\n",
       "      <th></th>\n",
       "      <th>team1</th>\n",
       "      <th>team2</th>\n",
       "      <th>toss_winner</th>\n",
       "      <th>winner</th>\n",
       "    </tr>\n",
       "  </thead>\n",
       "  <tbody>\n",
       "    <tr>\n",
       "      <th>count</th>\n",
       "      <td>636.000000</td>\n",
       "      <td>636.000000</td>\n",
       "      <td>636.000000</td>\n",
       "      <td>636.000000</td>\n",
       "    </tr>\n",
       "    <tr>\n",
       "      <th>mean</th>\n",
       "      <td>5.540881</td>\n",
       "      <td>5.511006</td>\n",
       "      <td>5.371069</td>\n",
       "      <td>5.309748</td>\n",
       "    </tr>\n",
       "    <tr>\n",
       "      <th>std</th>\n",
       "      <td>3.329169</td>\n",
       "      <td>3.341677</td>\n",
       "      <td>3.293140</td>\n",
       "      <td>3.288726</td>\n",
       "    </tr>\n",
       "    <tr>\n",
       "      <th>min</th>\n",
       "      <td>1.000000</td>\n",
       "      <td>1.000000</td>\n",
       "      <td>1.000000</td>\n",
       "      <td>1.000000</td>\n",
       "    </tr>\n",
       "    <tr>\n",
       "      <th>25%</th>\n",
       "      <td>3.000000</td>\n",
       "      <td>3.000000</td>\n",
       "      <td>2.000000</td>\n",
       "      <td>2.000000</td>\n",
       "    </tr>\n",
       "    <tr>\n",
       "      <th>50%</th>\n",
       "      <td>5.000000</td>\n",
       "      <td>5.000000</td>\n",
       "      <td>5.000000</td>\n",
       "      <td>5.000000</td>\n",
       "    </tr>\n",
       "    <tr>\n",
       "      <th>75%</th>\n",
       "      <td>9.000000</td>\n",
       "      <td>8.000000</td>\n",
       "      <td>7.250000</td>\n",
       "      <td>8.000000</td>\n",
       "    </tr>\n",
       "    <tr>\n",
       "      <th>max</th>\n",
       "      <td>13.000000</td>\n",
       "      <td>13.000000</td>\n",
       "      <td>13.000000</td>\n",
       "      <td>14.000000</td>\n",
       "    </tr>\n",
       "  </tbody>\n",
       "</table>\n",
       "</div>"
      ],
      "text/plain": [
       "            team1       team2  toss_winner      winner\n",
       "count  636.000000  636.000000   636.000000  636.000000\n",
       "mean     5.540881    5.511006     5.371069    5.309748\n",
       "std      3.329169    3.341677     3.293140    3.288726\n",
       "min      1.000000    1.000000     1.000000    1.000000\n",
       "25%      3.000000    3.000000     2.000000    2.000000\n",
       "50%      5.000000    5.000000     5.000000    5.000000\n",
       "75%      9.000000    8.000000     7.250000    8.000000\n",
       "max     13.000000   13.000000    13.000000   14.000000"
      ]
     },
     "execution_count": 18,
     "metadata": {},
     "output_type": "execute_result"
    }
   ],
   "source": [
    "df=pd.DataFrame(matches)\n",
    "df.describe()"
   ]
  },
  {
   "cell_type": "code",
   "execution_count": 19,
   "metadata": {},
   "outputs": [
    {
     "data": {
      "text/plain": [
       "team1            0\n",
       "team2            0\n",
       "city             0\n",
       "toss_decision    0\n",
       "toss_winner      0\n",
       "venue            0\n",
       "winner           0\n",
       "dtype: int64"
      ]
     },
     "execution_count": 19,
     "metadata": {},
     "output_type": "execute_result"
    }
   ],
   "source": [
    "# reassuring that none of the columns has null values\n",
    "df.apply(lambda x:sum(x.isnull()),axis=0)"
   ]
  },
  {
   "cell_type": "code",
   "execution_count": 20,
   "metadata": {},
   "outputs": [
    {
     "name": "stdout",
     "output_type": "stream",
     "text": [
      "['Hyderabad' 'Pune' 'Rajkot' 'Indore' 'Bangalore' 'Mumbai' 'Kolkata'\n",
      " 'Delhi' 'Chandigarh' 'Kanpur' 'Jaipur' 'Chennai' 'Cape Town'\n",
      " 'Port Elizabeth' 'Durban' 'Centurion' 'East London' 'Johannesburg'\n",
      " 'Kimberley' 'Bloemfontein' 'Ahmedabad' 'Cuttack' 'Nagpur' 'Dharamsala'\n",
      " 'Kochi' 'Visakhapatnam' 'Raipur' 'Ranchi' 'Abu Dhabi' 'Sharjah' 'Dubai']\n"
     ]
    },
    {
     "data": {
      "text/plain": [
       "31"
      ]
     },
     "execution_count": 20,
     "metadata": {},
     "output_type": "execute_result"
    }
   ],
   "source": [
    "print(df['city'].unique())\n",
    "len(df['city'].unique())"
   ]
  },
  {
   "cell_type": "code",
   "execution_count": 21,
   "metadata": {},
   "outputs": [
    {
     "name": "stdout",
     "output_type": "stream",
     "text": [
      "['Rajiv Gandhi International Stadium, Uppal'\n",
      " 'Maharashtra Cricket Association Stadium'\n",
      " 'Saurashtra Cricket Association Stadium' 'Holkar Cricket Stadium'\n",
      " 'M Chinnaswamy Stadium' 'Wankhede Stadium' 'Eden Gardens'\n",
      " 'Feroz Shah Kotla' 'Punjab Cricket Association IS Bindra Stadium, Mohali'\n",
      " 'Green Park' 'Punjab Cricket Association Stadium, Mohali'\n",
      " 'Sawai Mansingh Stadium' 'MA Chidambaram Stadium, Chepauk'\n",
      " 'Dr DY Patil Sports Academy' 'Newlands' \"St George's Park\" 'Kingsmead'\n",
      " 'SuperSport Park' 'Buffalo Park' 'New Wanderers Stadium'\n",
      " 'De Beers Diamond Oval' 'OUTsurance Oval' 'Brabourne Stadium'\n",
      " 'Sardar Patel Stadium, Motera' 'Barabati Stadium'\n",
      " 'Vidarbha Cricket Association Stadium, Jamtha'\n",
      " 'Himachal Pradesh Cricket Association Stadium' 'Nehru Stadium'\n",
      " 'Dr. Y.S. Rajasekhara Reddy ACA-VDCA Cricket Stadium'\n",
      " 'Subrata Roy Sahara Stadium'\n",
      " 'Shaheed Veer Narayan Singh International Stadium'\n",
      " 'JSCA International Stadium Complex' 'Sheikh Zayed Stadium'\n",
      " 'Sharjah Cricket Stadium' 'Dubai International Cricket Stadium']\n"
     ]
    },
    {
     "data": {
      "text/plain": [
       "35"
      ]
     },
     "execution_count": 21,
     "metadata": {},
     "output_type": "execute_result"
    }
   ],
   "source": [
    "print(df['venue'].unique())\n",
    "len(df['venue'].unique())"
   ]
  },
  {
   "cell_type": "code",
   "execution_count": 22,
   "metadata": {},
   "outputs": [
    {
     "name": "stdout",
     "output_type": "stream",
     "text": [
      "[ 0  1  2  3  4  0  5  3  1  5  6  4  2  6  7  5  4  7  0  2  0  3  6  5\n",
      "  1  2  6  5  1  4  6  8  1  2  8  0  5  1  7  6  7  4  0  7  4  8  0  8\n",
      "  9  5  7  9  6  1  7  5  4  4  0  4  8  7  5  6 10  0 11  0  8  4 11  5\n",
      "  8  4  6  7  0 10 11  0  8  5 10  4 11  5  7  6 10  4 11  0 10  8  6  5\n",
      "  8  7  5  7 10  0  6  4  6  5 11  8  7 11  4  6 10  0  5  5  5 12 12 12\n",
      " 12 13 14 12 14 12 14 14 13 12 14 13 15 14 14 15 15 16 14 13 17 13 17 16\n",
      " 14 14 15 15 15 16 18 18 13 17 18 15 15 14 14 14 19 13 17 17 19 15 17 14\n",
      " 14 15 15 15 17 17  5  5  8  6 11 20  4  6  7  4  7 21 20  5 21 11  5  4\n",
      "  8  5 20  8  4 20  5  7  5 11  7  6  8 11  5  6  7 22 11 10  6  4  8 22\n",
      "  4  7 10 22  5 11 10 11 23  4  6 23  7  6  5  5  5  5 11  0 24  7  5  6\n",
      " 10  4  8  5  0 10  5 11  0  5  6 24  7  5  6  8  5  6  7  0 10 11  7  5\n",
      " 24  7 10  4 24  6 10 11  5  7  0 11  5 24  0  4  6  5  4  8 10  0  8 10\n",
      " 11  3  4  5 23  3  5 23 11  5  5 23  7  4  6  5  5 11 11 11  6  5 10  4\n",
      " 25 10  1 25  4  7  5 11  8  6  7  1  6  4  5 10  4  8  0 11  8 11  7  5\n",
      " 21 10  1  8  1  7 11  6  7  5 11 21 10  4  1 11  6  8  5  4  7  1  0  5\n",
      " 10  1  6 11 10  8  4  6  7  5 23  7  0 23  1  0 10  1  4 11 11  6  4  0\n",
      "  7 11  1  0 10  5  8  4  1  7  5 11  6 10 11  8  4  1 10  7  0  6  4  7\n",
      "  8 11  4 23  6 11  6 10  5 11 26 10  5  1  0 26 11  1  6  0  4  5 10  4\n",
      " 10  5  0  8  1  7  1  8 27 10  7  5 27 11  5  8  0 23  1  4  0  7  7  6\n",
      "  6 28 29 28 28 30 30 29 28 29 30 29 30 30 28 28 29 29 30 28 30 27  5  7\n",
      "  4 20  7  5  7 21 20  4  7  5 21  4  0 27  4  0 21 20 27  0 20  7  0  6\n",
      "  8  6 27  5  8  4  6  8  5  6  5  5  4  6 11  1 11  6  7  5  4 20  6  1\n",
      " 25  5 25  1 20  4  7 20 25  4  7 20  5 11  7  8  6  4 11  7  5  4  0  8\n",
      "  5 11  6  5  4  5 11  6 26  5 11  0 26  8  5  0  8  5  4  0  5  1 27  6\n",
      "  5  6  8  4  6  2  7  0  5  8  4  0  8  5  2  1  7  0  2  1  8  0  7  5\n",
      "  1  7  0  2  1  4  2  6  7  0  4  8 25  6  8 25  4  0 25  4  6  8 25  6\n",
      " 25  4  9 26 25  9  6 26  4  7  7  4]\n",
      "Index(['Hyderabad', 'Pune', 'Rajkot', 'Indore', 'Bangalore', 'Mumbai',\n",
      "       'Kolkata', 'Delhi', 'Chandigarh', 'Kanpur', 'Jaipur', 'Chennai',\n",
      "       'Cape Town', 'Port Elizabeth', 'Durban', 'Centurion', 'East London',\n",
      "       'Johannesburg', 'Kimberley', 'Bloemfontein', 'Ahmedabad', 'Cuttack',\n",
      "       'Nagpur', 'Dharamsala', 'Kochi', 'Visakhapatnam', 'Raipur', 'Ranchi',\n",
      "       'Abu Dhabi', 'Sharjah', 'Dubai'],\n",
      "      dtype='object')\n",
      "4\n"
     ]
    }
   ],
   "source": [
    "# Respresentation of label encoder (coverting strings to numerical values)\n",
    "cat_list=df['city']\n",
    "encoded_data,mapping_index=pd.Series(cat_list).factorize()\n",
    "print(encoded_data)\n",
    "print(mapping_index)\n",
    "print(mapping_index.get_loc(\"Bangalore\"))"
   ]
  },
  {
   "cell_type": "code",
   "execution_count": 23,
   "metadata": {
    "scrolled": true
   },
   "outputs": [
    {
     "name": "stdout",
     "output_type": "stream",
     "text": [
      "Index(['Rajiv Gandhi International Stadium, Uppal',\n",
      "       'Maharashtra Cricket Association Stadium',\n",
      "       'Saurashtra Cricket Association Stadium', 'Holkar Cricket Stadium',\n",
      "       'M Chinnaswamy Stadium', 'Wankhede Stadium', 'Eden Gardens',\n",
      "       'Feroz Shah Kotla',\n",
      "       'Punjab Cricket Association IS Bindra Stadium, Mohali', 'Green Park',\n",
      "       'Punjab Cricket Association Stadium, Mohali', 'Sawai Mansingh Stadium',\n",
      "       'MA Chidambaram Stadium, Chepauk', 'Dr DY Patil Sports Academy',\n",
      "       'Newlands', 'St George's Park', 'Kingsmead', 'SuperSport Park',\n",
      "       'Buffalo Park', 'New Wanderers Stadium', 'De Beers Diamond Oval',\n",
      "       'OUTsurance Oval', 'Brabourne Stadium', 'Sardar Patel Stadium, Motera',\n",
      "       'Barabati Stadium', 'Vidarbha Cricket Association Stadium, Jamtha',\n",
      "       'Himachal Pradesh Cricket Association Stadium', 'Nehru Stadium',\n",
      "       'Dr. Y.S. Rajasekhara Reddy ACA-VDCA Cricket Stadium',\n",
      "       'Subrata Roy Sahara Stadium',\n",
      "       'Shaheed Veer Narayan Singh International Stadium',\n",
      "       'JSCA International Stadium Complex', 'Sheikh Zayed Stadium',\n",
      "       'Sharjah Cricket Stadium', 'Dubai International Cricket Stadium'],\n",
      "      dtype='object')\n",
      "27\n"
     ]
    }
   ],
   "source": [
    "# Respresentation of label encoder (coverting strings to numerical values)\n",
    "cat_list1=df['venue']\n",
    "encoded_data1,mapping_index1=pd.Series(cat_list1).factorize()\n",
    "#print(encoded_data1)\n",
    "print(mapping_index1)\n",
    "print(mapping_index1.get_loc(\"Nehru Stadium\"))"
   ]
  },
  {
   "cell_type": "code",
   "execution_count": 24,
   "metadata": {},
   "outputs": [
    {
     "name": "stdout",
     "output_type": "stream",
     "text": [
      "Index(['field', 'bat'], dtype='object')\n",
      "0\n"
     ]
    }
   ],
   "source": [
    "# Respresentation of label encoder (coverting strings to numerical values)\n",
    "cat_list2=df['toss_decision']\n",
    "encoded_data2,mapping_index2=pd.Series(cat_list2).factorize()\n",
    "#print(encoded_data2)\n",
    "print(mapping_index2)\n",
    "print(mapping_index2.get_loc('field'))"
   ]
  },
  {
   "cell_type": "code",
   "execution_count": 25,
   "metadata": {},
   "outputs": [
    {
     "name": "stdout",
     "output_type": "stream",
     "text": [
      "No.of toss winners by each team\n",
      "MI -> 85\n",
      "KKR -> 78\n",
      "DD -> 72\n",
      "RCB -> 70\n",
      "KXIP -> 68\n",
      "CSK -> 66\n",
      "RR -> 63\n",
      "DC -> 43\n",
      "SRH -> 35\n",
      "PW -> 20\n",
      "GL -> 15\n",
      "RPS -> 13\n",
      "KTK -> 8\n",
      "No.of match winners by each team\n",
      "MI -> 92\n",
      "CSK -> 79\n",
      "KKR -> 77\n",
      "RCB -> 73\n",
      "KXIP -> 70\n",
      "RR -> 63\n",
      "DD -> 62\n",
      "SRH -> 42\n",
      "DC -> 29\n",
      "RPS -> 15\n",
      "GL -> 13\n",
      "PW -> 12\n",
      "KTK -> 6\n",
      "Draw -> 3\n"
     ]
    }
   ],
   "source": [
    "#find some stats on match winners and toss winners\n",
    "temp1=df['toss_winner'].value_counts(sort=True)\n",
    "temp2=df['winner'].value_counts(sort=True)\n",
    "print('No.of toss winners by each team')\n",
    "for idx,val in temp1.iteritems():\n",
    "    print(\"{} -> {}\".format(list(dicVal.keys())[list(dicVal.values()).index(idx)],val))\n",
    "print('No.of match winners by each team')\n",
    "for idx,val in temp2.iteritems():\n",
    "    print(\"{} -> {}\".format(list(dicVal.keys())[list(dicVal.values()).index(idx)],val))"
   ]
  },
  {
   "cell_type": "code",
   "execution_count": 27,
   "metadata": {},
   "outputs": [
    {
     "data": {
      "text/plain": [
       "Text(0.5, 1.0, 'match winners')"
      ]
     },
     "execution_count": 27,
     "metadata": {},
     "output_type": "execute_result"
    },
    {
     "data": {
      "image/png": "[encoded data removed]",
      "text/plain": [
       "<Figure size 576x288 with 2 Axes>"
      ]
     },
     "metadata": {
      "needs_background": "light"
     },
     "output_type": "display_data"
    }
   ],
   "source": [
    "import matplotlib.pyplot as plt\n",
    "fig=plt.figure(figsize=(8,4))\n",
    "ax1=fig.add_subplot(121)\n",
    "ax1.set_xlabel('toss_winner')\n",
    "ax1.set_ylabel('Count of toss winners')\n",
    "ax1.set_title(\"toss winners\")\n",
    "temp1.plot(kind='bar')\n",
    "\n",
    "ax2=fig.add_subplot(122)\n",
    "temp2.plot(kind='bar')\n",
    "ax2.set_xlabel('winner')\n",
    "ax2.set_ylabel('Count of match winners')\n",
    "ax2.set_title(\"match winners\")"
   ]
  },
  {
   "cell_type": "code",
   "execution_count": 28,
   "metadata": {},
   "outputs": [
    {
     "data": {
      "image/png": "[encoded data removed]",
      "text/plain": [
       "<Figure size 432x432 with 1 Axes>"
      ]
     },
     "metadata": {},
     "output_type": "display_data"
    },
    {
     "data": {
      "text/plain": [
       "<module 'matplotlib.pyplot' from 'C:\\\\Users\\\\polep\\\\Anaconda3\\\\lib\\\\site-packages\\\\matplotlib\\\\pyplot.py'>"
      ]
     },
     "execution_count": 28,
     "metadata": {},
     "output_type": "execute_result"
    }
   ],
   "source": [
    "#probability of match winning by winning toss for all teams\n",
    "import matplotlib.pyplot as mlt\n",
    "mlt.style.use('fivethirtyeight')\n",
    "df_fil=df[df['toss_winner']==df['winner']]\n",
    "slices=[len(df_fil),(636-len(df_fil))]\n",
    "mlt.pie(slices,labels=['Toss & win','Toss & lose'],startangle=90,shadow=True,explode=(0,0),autopct='%1.1f%%',colors=['r','g'])\n",
    "fig = mlt.gcf()\n",
    "fig.set_size_inches(6,6)\n",
    "mlt.show()\n",
    "# Toss winning does not gaurantee a match win from analysis of current stats and thus \n",
    "#prediction feature gives less weightage to that \n",
    "mlt"
   ]
  },
  {
   "cell_type": "code",
   "execution_count": 29,
   "metadata": {},
   "outputs": [
    {
     "data": {
      "image/png": "[encoded data removed]",
      "text/plain": [
       "<Figure size 432x432 with 1 Axes>"
      ]
     },
     "metadata": {},
     "output_type": "display_data"
    },
    {
     "data": {
      "text/plain": [
       "<module 'matplotlib.pyplot' from 'C:\\\\Users\\\\polep\\\\Anaconda3\\\\lib\\\\site-packages\\\\matplotlib\\\\pyplot.py'>"
      ]
     },
     "execution_count": 29,
     "metadata": {},
     "output_type": "execute_result"
    }
   ],
   "source": [
    "#probability of match winning by winning toss for MI(index==1)\n",
    "count=0\n",
    "for i in range(636):\n",
    "    if df[\"toss_winner\"][i]==df[\"winner\"][i]==1:\n",
    "        count=count+1\n",
    "import matplotlib.pyplot as mlt\n",
    "#mlt.style.use('fivethirtyeight')\n",
    "df_fil=df[df['toss_winner']==1]\n",
    "slices=[count,len(df_fil)-count]\n",
    "mlt.pie(slices,labels=['Toss & win','Toss & lose'],startangle=90,shadow=True,explode=(0,0),autopct='%1.1f%%',colors=['r','g'])\n",
    "fig = mlt.gcf()\n",
    "fig.set_size_inches(6,6)\n",
    "mlt.show()\n",
    "# Toss winning does not gaurantee a match win from analysis of current stats and thus \n",
    "#prediction feature gives less weightage to that \n",
    "mlt"
   ]
  },
  {
   "cell_type": "markdown",
   "metadata": {},
   "source": [
    "## Model Development"
   ]
  },
  {
   "cell_type": "code",
   "execution_count": 30,
   "metadata": {
    "scrolled": true
   },
   "outputs": [
    {
     "data": {
      "text/html": [
       "<div>\n",
       "<style scoped>\n",
       "    .dataframe tbody tr th:only-of-type {\n",
       "        vertical-align: middle;\n",
       "    }\n",
       "\n",
       "    .dataframe tbody tr th {\n",
       "        vertical-align: top;\n",
       "    }\n",
       "\n",
       "    .dataframe thead th {\n",
       "        text-align: right;\n",
       "    }\n",
       "</style>\n",
       "<table border=\"1\" class=\"dataframe\">\n",
       "  <thead>\n",
       "    <tr style=\"text-align: right;\">\n",
       "      <th></th>\n",
       "      <th>team1</th>\n",
       "      <th>team2</th>\n",
       "      <th>city</th>\n",
       "      <th>toss_decision</th>\n",
       "      <th>toss_winner</th>\n",
       "      <th>venue</th>\n",
       "      <th>winner</th>\n",
       "    </tr>\n",
       "  </thead>\n",
       "  <tbody>\n",
       "    <tr>\n",
       "      <th>0</th>\n",
       "      <td>10</td>\n",
       "      <td>3</td>\n",
       "      <td>14</td>\n",
       "      <td>1</td>\n",
       "      <td>3</td>\n",
       "      <td>23</td>\n",
       "      <td>10</td>\n",
       "    </tr>\n",
       "    <tr>\n",
       "      <th>1</th>\n",
       "      <td>1</td>\n",
       "      <td>11</td>\n",
       "      <td>25</td>\n",
       "      <td>1</td>\n",
       "      <td>11</td>\n",
       "      <td>16</td>\n",
       "      <td>11</td>\n",
       "    </tr>\n",
       "    <tr>\n",
       "      <th>2</th>\n",
       "      <td>8</td>\n",
       "      <td>2</td>\n",
       "      <td>27</td>\n",
       "      <td>1</td>\n",
       "      <td>2</td>\n",
       "      <td>25</td>\n",
       "      <td>2</td>\n",
       "    </tr>\n",
       "    <tr>\n",
       "      <th>3</th>\n",
       "      <td>11</td>\n",
       "      <td>9</td>\n",
       "      <td>15</td>\n",
       "      <td>1</td>\n",
       "      <td>9</td>\n",
       "      <td>11</td>\n",
       "      <td>9</td>\n",
       "    </tr>\n",
       "    <tr>\n",
       "      <th>4</th>\n",
       "      <td>3</td>\n",
       "      <td>7</td>\n",
       "      <td>2</td>\n",
       "      <td>0</td>\n",
       "      <td>3</td>\n",
       "      <td>14</td>\n",
       "      <td>3</td>\n",
       "    </tr>\n",
       "    <tr>\n",
       "      <th>5</th>\n",
       "      <td>8</td>\n",
       "      <td>10</td>\n",
       "      <td>14</td>\n",
       "      <td>1</td>\n",
       "      <td>10</td>\n",
       "      <td>23</td>\n",
       "      <td>10</td>\n",
       "    </tr>\n",
       "    <tr>\n",
       "      <th>6</th>\n",
       "      <td>2</td>\n",
       "      <td>1</td>\n",
       "      <td>22</td>\n",
       "      <td>1</td>\n",
       "      <td>1</td>\n",
       "      <td>34</td>\n",
       "      <td>1</td>\n",
       "    </tr>\n",
       "    <tr>\n",
       "      <th>7</th>\n",
       "      <td>3</td>\n",
       "      <td>9</td>\n",
       "      <td>15</td>\n",
       "      <td>0</td>\n",
       "      <td>3</td>\n",
       "      <td>11</td>\n",
       "      <td>9</td>\n",
       "    </tr>\n",
       "    <tr>\n",
       "      <th>8</th>\n",
       "      <td>7</td>\n",
       "      <td>11</td>\n",
       "      <td>25</td>\n",
       "      <td>1</td>\n",
       "      <td>11</td>\n",
       "      <td>16</td>\n",
       "      <td>7</td>\n",
       "    </tr>\n",
       "    <tr>\n",
       "      <th>9</th>\n",
       "      <td>10</td>\n",
       "      <td>1</td>\n",
       "      <td>22</td>\n",
       "      <td>1</td>\n",
       "      <td>1</td>\n",
       "      <td>34</td>\n",
       "      <td>1</td>\n",
       "    </tr>\n",
       "  </tbody>\n",
       "</table>\n",
       "</div>"
      ],
      "text/plain": [
       "   team1  team2  city  toss_decision  toss_winner  venue  winner\n",
       "0     10      3    14              1            3     23      10\n",
       "1      1     11    25              1           11     16      11\n",
       "2      8      2    27              1            2     25       2\n",
       "3     11      9    15              1            9     11       9\n",
       "4      3      7     2              0            3     14       3\n",
       "5      8     10    14              1           10     23      10\n",
       "6      2      1    22              1            1     34       1\n",
       "7      3      9    15              0            3     11       9\n",
       "8      7     11    25              1           11     16       7\n",
       "9     10      1    22              1            1     34       1"
      ]
     },
     "execution_count": 30,
     "metadata": {},
     "output_type": "execute_result"
    }
   ],
   "source": [
    "#building predictive model, covert categorical to numerical data\n",
    "#building predictive model\n",
    "from sklearn.preprocessing import LabelEncoder\n",
    "var_mod = ['city','toss_decision','venue']\n",
    "le = LabelEncoder()\n",
    "for i in var_mod:\n",
    "    df[i] = le.fit_transform(df[i])\n",
    "df.head(10)"
   ]
  },
  {
   "cell_type": "code",
   "execution_count": 31,
   "metadata": {},
   "outputs": [],
   "source": [
    "#import models from scikit learn module\n",
    "from sklearn.linear_model import LogisticRegression\n",
    "from sklearn.model_selection import KFold\n",
    "from sklearn.ensemble import RandomForestClassifier\n",
    "from sklearn.tree import DecisionTreeClassifier,export_graphviz\n",
    "from sklearn import metrics"
   ]
  },
  {
   "cell_type": "code",
   "execution_count": 32,
   "metadata": {},
   "outputs": [],
   "source": [
    "#generic function for making a classification model and accessing performance\n",
    "def classification_model(model,data,predictors,outcome):\n",
    "    model.fit(data[predictors],data[outcome])\n",
    "    predictions=model.predict(data[predictors])\n",
    "    #print(predictions)\n",
    "    print(\"Confusion Matrix:\")\n",
    "    print(metrics.confusion_matrix(predictions,data[outcome]))\n",
    "    print()\n",
    "    accuracy=metrics.accuracy_score(predictions,data[outcome])\n",
    "    print('Accuracy : %s'%'{0:.3%}'.format(accuracy))"
   ]
  },
  {
   "cell_type": "code",
   "execution_count": 33,
   "metadata": {},
   "outputs": [],
   "source": [
    "outcome_var = ['winner']\n",
    "predictor_var = ['team1', 'team2', 'venue', 'toss_winner','city','toss_decision']"
   ]
  },
  {
   "cell_type": "markdown",
   "metadata": {},
   "source": [
    "### Evaluationg different Models "
   ]
  },
  {
   "cell_type": "code",
   "execution_count": 34,
   "metadata": {},
   "outputs": [
    {
     "name": "stdout",
     "output_type": "stream",
     "text": [
      "LOGISTIC REGRESSION:\n",
      "\n",
      "Confusion Matrix:\n",
      "[[47 13 20 10  7 13  6  2  5  0  1  0  0  0]\n",
      " [16 37  5  3 12  5  7  2  3  4  1  2  1  0]\n",
      " [13  7 24  3 10  8  6  3  6  2  0  0  0  1]\n",
      " [ 0  0  0  0  0  0  0  0  0  0  0  0  0  0]\n",
      " [ 6  6 10  7 28 10 18  0  9  6  0  0  0  0]\n",
      " [ 6  4  6  0  8 12  3  0  4  3  1  1  2  0]\n",
      " [ 0  5  1  2  1  1  4  0  6  4  2  2  0  0]\n",
      " [ 1  0  0  0  0  0  0  0  0  0  0  0  0  0]\n",
      " [ 3  5  7  3 12 14 14  4 36 21  6  1  4  1]\n",
      " [ 0  0  0  0  1  0  4  2  1  2  4  0  5  1]\n",
      " [ 0  0  0  0  0  0  0  0  0  0  0  0  0  0]\n",
      " [ 0  0  0  0  0  0  0  0  0  0  0  0  0  0]\n",
      " [ 0  0  0  0  0  0  0  0  0  0  0  0  0  0]\n",
      " [ 0  0  0  1  0  0  0  0  0  0  0  0  0  0]]\n",
      "\n",
      "Accuracy : 29.874%\n"
     ]
    },
    {
     "name": "stderr",
     "output_type": "stream",
     "text": [
      "C:\\Users\\polep\\Anaconda3\\lib\\site-packages\\sklearn\\linear_model\\logistic.py:433: FutureWarning: Default solver will be changed to 'lbfgs' in 0.22. Specify a solver to silence this warning.\n",
      "  FutureWarning)\n",
      "C:\\Users\\polep\\Anaconda3\\lib\\site-packages\\sklearn\\utils\\validation.py:761: DataConversionWarning: A column-vector y was passed when a 1d array was expected. Please change the shape of y to (n_samples, ), for example using ravel().\n",
      "  y = column_or_1d(y, warn=True)\n",
      "C:\\Users\\polep\\Anaconda3\\lib\\site-packages\\sklearn\\linear_model\\logistic.py:460: FutureWarning: Default multi_class will be changed to 'auto' in 0.22. Specify the multi_class option to silence this warning.\n",
      "  \"this warning.\", FutureWarning)\n"
     ]
    }
   ],
   "source": [
    "#logistic regression\n",
    "model=LogisticRegression()\n",
    "print(\"LOGISTIC REGRESSION:\\n\")\n",
    "classification_model(model,df,predictor_var,outcome_var)"
   ]
  },
  {
   "cell_type": "code",
   "execution_count": 35,
   "metadata": {},
   "outputs": [
    {
     "name": "stdout",
     "output_type": "stream",
     "text": [
      "GAUSSIAN NAIVE BAYES CLASSIFIER:\n",
      "\n",
      "Confusion Matrix:\n",
      "[[16  5  6  3  3  2  3  1  3  2  1  0  0  0]\n",
      " [12 18  4  0  7  1  2  0  2  0  0  0  0  0]\n",
      " [12  6 17  2  3  4  3  0  3  0  0  0  0  2]\n",
      " [ 0  0  0  1  0  0  0  0  0  0  0  0  1  0]\n",
      " [ 3  7  9  8 32 13 13  0  6  3  0  0  0  0]\n",
      " [ 1  1  3  1  5 12  5  0  3  0  0  0  0  0]\n",
      " [ 0  0  0  0  0  1  4  0  3  2  0  0  0  0]\n",
      " [ 0  0  1  0  0  0  0  1  0  0  0  0  0  0]\n",
      " [ 3  2  5  0  1  1  0  0  2  2  1  0  0  0]\n",
      " [ 0  0  1  0  0  1  2  0  1  6  0  0  2  1]\n",
      " [ 0  0  0  0  0  0  0  0  0  0  0  0  0  0]\n",
      " [42 37 26 13 25 26 29 10 46 25 12  6  3  0]\n",
      " [ 3  1  1  1  3  2  1  1  1  2  1  0  6  0]\n",
      " [ 0  0  0  0  0  0  0  0  0  0  0  0  0  0]]\n",
      "\n",
      "Accuracy : 19.025%\n"
     ]
    },
    {
     "name": "stderr",
     "output_type": "stream",
     "text": [
      "C:\\Users\\polep\\Anaconda3\\lib\\site-packages\\sklearn\\utils\\validation.py:761: DataConversionWarning: A column-vector y was passed when a 1d array was expected. Please change the shape of y to (n_samples, ), for example using ravel().\n",
      "  y = column_or_1d(y, warn=True)\n"
     ]
    }
   ],
   "source": [
    "#Gaussian Naive Bayes Classifier\n",
    "from sklearn.naive_bayes import GaussianNB\n",
    "model=GaussianNB()\n",
    "print(\"GAUSSIAN NAIVE BAYES CLASSIFIER:\\n\")\n",
    "classification_model(model,df,predictor_var,outcome_var)"
   ]
  },
  {
   "cell_type": "code",
   "execution_count": 36,
   "metadata": {},
   "outputs": [
    {
     "name": "stdout",
     "output_type": "stream",
     "text": [
      "KNN ALGORITHM:\n",
      "\n",
      "Confusion Matrix:\n",
      "[[78  6  7  2 10  1  2  1  4  0  1  1  0  0]\n",
      " [ 5 61  4  3  3  1  2  0  6  0  2  2  1  0]\n",
      " [ 0  6 47  6  8  4  5  1  6  2  2  0  1  2]\n",
      " [ 0  1  5 16  4  2  4  0  1  0  0  1  0  0]\n",
      " [ 3  0  2  2 49 10  4  0  3  0  0  0  0  0]\n",
      " [ 3  1  4  0  1 43  8  0  2  4  0  1  1  0]\n",
      " [ 0  1  2  0  2  0 29  3  3  5  0  0  1  1]\n",
      " [ 0  0  0  0  0  0  0  7  0  0  0  0  0  0]\n",
      " [ 2  1  2  0  1  2  5  1 41  3  0  0  0  0]\n",
      " [ 1  0  0  0  0  0  1  0  3 27  1  1  2  0]\n",
      " [ 0  0  0  0  0  0  2  0  0  1  9  0  1  0]\n",
      " [ 0  0  0  0  0  0  0  0  0  0  0  0  0  0]\n",
      " [ 0  0  0  0  1  0  0  0  1  0  0  0  5  0]\n",
      " [ 0  0  0  0  0  0  0  0  0  0  0  0  0  0]]\n",
      "\n",
      "Accuracy : 64.780%\n"
     ]
    },
    {
     "name": "stderr",
     "output_type": "stream",
     "text": [
      "C:\\Users\\polep\\Anaconda3\\lib\\site-packages\\ipykernel_launcher.py:3: DataConversionWarning: A column-vector y was passed when a 1d array was expected. Please change the shape of y to (n_samples, ), for example using ravel().\n",
      "  This is separate from the ipykernel package so we can avoid doing imports until\n"
     ]
    }
   ],
   "source": [
    "#knn algorithm\n",
    "from sklearn.neighbors import KNeighborsClassifier\n",
    "model=KNeighborsClassifier(n_neighbors=3)\n",
    "print(\"KNN ALGORITHM:\\n\")\n",
    "classification_model(model,df,predictor_var,outcome_var)"
   ]
  },
  {
   "cell_type": "code",
   "execution_count": 37,
   "metadata": {},
   "outputs": [
    {
     "name": "stdout",
     "output_type": "stream",
     "text": [
      "SUPPORT VECTOR MACHINES:\n",
      "\n",
      "Confusion Matrix:\n",
      "[[87  3  4  1  2  1  2  0  2  0  1  1  0  0]\n",
      " [ 0 66  0  0  2  0  1  0  1  0  0  0  0  0]\n",
      " [ 0  4 65  1  2  0  4  1  4  2  1  0  0  1]\n",
      " [ 0  0  0 27  0  0  1  0  0  0  0  0  0  0]\n",
      " [ 2  0  1  0 72  1  2  0  0  0  0  0  1  0]\n",
      " [ 2  1  2  0  1 59  1  0  0  0  0  0  0  1]\n",
      " [ 0  1  0  0  0  1 48  1  0  1  0  0  1  0]\n",
      " [ 0  0  0  0  0  0  0 11  0  0  0  0  0  0]\n",
      " [ 1  2  1  0  0  1  3  0 63  1  0  0  1  0]\n",
      " [ 0  0  0  0  0  0  0  0  0 38  0  0  0  0]\n",
      " [ 0  0  0  0  0  0  0  0  0  0 13  0  0  0]\n",
      " [ 0  0  0  0  0  0  0  0  0  0  0  5  0  0]\n",
      " [ 0  0  0  0  0  0  0  0  0  0  0  0  9  0]\n",
      " [ 0  0  0  0  0  0  0  0  0  0  0  0  0  1]]\n",
      "\n",
      "Accuracy : 88.679%\n"
     ]
    },
    {
     "name": "stderr",
     "output_type": "stream",
     "text": [
      "C:\\Users\\polep\\Anaconda3\\lib\\site-packages\\sklearn\\utils\\validation.py:761: DataConversionWarning: A column-vector y was passed when a 1d array was expected. Please change the shape of y to (n_samples, ), for example using ravel().\n",
      "  y = column_or_1d(y, warn=True)\n"
     ]
    }
   ],
   "source": [
    "#Support Vector Machines\n",
    "from sklearn import svm\n",
    "model=svm.SVC(kernel='rbf',C=1,gamma=1)\n",
    "print(\"SUPPORT VECTOR MACHINES:\\n\")\n",
    "classification_model(model,df,predictor_var,outcome_var)"
   ]
  },
  {
   "cell_type": "code",
   "execution_count": 38,
   "metadata": {},
   "outputs": [
    {
     "name": "stdout",
     "output_type": "stream",
     "text": [
      "GRADIENT BOOST ALGORITHM:\n",
      "\n"
     ]
    },
    {
     "name": "stderr",
     "output_type": "stream",
     "text": [
      "C:\\Users\\polep\\Anaconda3\\lib\\site-packages\\sklearn\\utils\\validation.py:761: DataConversionWarning: A column-vector y was passed when a 1d array was expected. Please change the shape of y to (n_samples, ), for example using ravel().\n",
      "  y = column_or_1d(y, warn=True)\n"
     ]
    },
    {
     "name": "stdout",
     "output_type": "stream",
     "text": [
      "Confusion Matrix:\n",
      "[[84  2  4  1  2  1  2  0  0  0  0  0  0  0]\n",
      " [ 1 69  0  0  2  0  2  0  2  0  0  0  0  0]\n",
      " [ 0  4 62  1  1  1  4  0  4  1  0  0  0  1]\n",
      " [ 0  0  0 27  0  0  1  0  0  0  0  0  0  0]\n",
      " [ 2  0  2  0 72  1  2  0  0  0  0  0  0  0]\n",
      " [ 2  1  1  0  1 58  1  0  0  0  0  0  0  1]\n",
      " [ 0  0  0  0  0  1 47  1  0  0  0  0  1  0]\n",
      " [ 0  0  1  0  0  0  0 12  0  0  0  0  0  0]\n",
      " [ 3  1  1  0  0  1  3  0 63  0  0  0  1  0]\n",
      " [ 0  0  1  0  0  0  0  0  1 41  0  0  0  0]\n",
      " [ 0  0  1  0  0  0  0  0  0  0 15  0  0  0]\n",
      " [ 0  0  0  0  0  0  0  0  0  0  0  6  0  0]\n",
      " [ 0  0  0  0  1  0  0  0  0  0  0  0 10  0]\n",
      " [ 0  0  0  0  0  0  0  0  0  0  0  0  0  1]]\n",
      "\n",
      "Accuracy : 89.151%\n"
     ]
    }
   ],
   "source": [
    "#gradient boost algorithm\n",
    "from sklearn.ensemble import GradientBoostingClassifier\n",
    "model=GradientBoostingClassifier(n_estimators=1000,learning_rate=0.1,max_depth=3,random_state=0)\n",
    "print(\"GRADIENT BOOST ALGORITHM:\\n\")\n",
    "classification_model(model,df,predictor_var,outcome_var)"
   ]
  },
  {
   "cell_type": "code",
   "execution_count": 39,
   "metadata": {},
   "outputs": [
    {
     "name": "stdout",
     "output_type": "stream",
     "text": [
      "DECISION TREE ALGORITHM:\n",
      "\n",
      "Confusion Matrix:\n",
      "[[90  3  4  1  4  2  2  0  2  0  0  0  0  0]\n",
      " [ 0 69  0  0  2  0  2  0  3  0  0  0  0  0]\n",
      " [ 0  4 68  1  2  2  4  1  5  2  1  0  0  1]\n",
      " [ 0  0  0 27  0  0  1  0  0  0  0  0  0  0]\n",
      " [ 0  0  1  0 71  2  2  0  0  0  0  0  1  0]\n",
      " [ 1  1  0  0  0 56  2  0  0  0  0  0  0  1]\n",
      " [ 0  0  0  0  0  0 46  1  0  0  0  0  1  0]\n",
      " [ 0  0  0  0  0  0  0 11  0  0  0  0  0  0]\n",
      " [ 1  0  0  0  0  1  3  0 60  1  0  0  1  0]\n",
      " [ 0  0  0  0  0  0  0  0  0 39  0  0  0  0]\n",
      " [ 0  0  0  0  0  0  0  0  0  0 14  0  0  0]\n",
      " [ 0  0  0  0  0  0  0  0  0  0  0  6  0  0]\n",
      " [ 0  0  0  0  0  0  0  0  0  0  0  0  9  0]\n",
      " [ 0  0  0  0  0  0  0  0  0  0  0  0  0  1]]\n",
      "\n",
      "Accuracy : 89.151%\n"
     ]
    }
   ],
   "source": [
    "#Decision tree algorithm\n",
    "from sklearn import tree\n",
    "model=tree.DecisionTreeClassifier()\n",
    "print(\"DECISION TREE ALGORITHM:\\n\")\n",
    "classification_model(model,df,predictor_var,outcome_var)"
   ]
  },
  {
   "cell_type": "code",
   "execution_count": 40,
   "metadata": {},
   "outputs": [
    {
     "name": "stdout",
     "output_type": "stream",
     "text": [
      "RANDOM FOREST CLASSIFIER:\n",
      "\n",
      "Confusion Matrix:\n",
      "[[85  2  3  1  2  1  2  0  2  0  0  0  0  0]\n",
      " [ 1 69  0  0  2  0  2  0  2  0  0  0  0  0]\n",
      " [ 1  4 64  0  2  1  4  0  4  1  1  0  0  1]\n",
      " [ 0  0  1 28  0  0  1  0  0  0  0  0  0  0]\n",
      " [ 2  0  1  0 72  1  2  0  0  0  0  0  1  0]\n",
      " [ 2  1  1  0  1 58  1  0  0  0  0  0  0  1]\n",
      " [ 0  0  0  0  0  1 47  1  0  0  0  0  1  0]\n",
      " [ 0  0  1  0  0  0  0 12  0  0  0  0  0  0]\n",
      " [ 1  1  1  0  0  1  3  0 60  0  0  0  0  0]\n",
      " [ 0  0  1  0  0  0  0  0  1 41  0  0  0  0]\n",
      " [ 0  0  0  0  0  0  0  0  0  0 14  0  0  0]\n",
      " [ 0  0  0  0  0  0  0  0  0  0  0  6  0  0]\n",
      " [ 0  0  0  0  0  0  0  0  1  0  0  0 10  0]\n",
      " [ 0  0  0  0  0  0  0  0  0  0  0  0  0  1]]\n",
      "\n",
      "Accuracy : 89.151%\n"
     ]
    },
    {
     "name": "stderr",
     "output_type": "stream",
     "text": [
      "C:\\Users\\polep\\Anaconda3\\lib\\site-packages\\ipykernel_launcher.py:3: DataConversionWarning: A column-vector y was passed when a 1d array was expected. Please change the shape of y to (n_samples,), for example using ravel().\n",
      "  This is separate from the ipykernel package so we can avoid doing imports until\n"
     ]
    }
   ],
   "source": [
    "#Random Forest Classifier\n",
    "model=RandomForestClassifier(n_estimators=100)\n",
    "print(\"RANDOM FOREST CLASSIFIER:\\n\")\n",
    "classification_model(model,df,predictor_var,outcome_var)"
   ]
  },
  {
   "cell_type": "code",
   "execution_count": 41,
   "metadata": {},
   "outputs": [
    {
     "name": "stdout",
     "output_type": "stream",
     "text": [
      "Feature importances:\n"
     ]
    },
    {
     "data": {
      "text/plain": [
       "team2            0.248126\n",
       "team1            0.221767\n",
       "toss_winner      0.176774\n",
       "venue            0.168528\n",
       "city             0.151698\n",
       "toss_decision    0.033107\n",
       "dtype: float64"
      ]
     },
     "execution_count": 41,
     "metadata": {},
     "output_type": "execute_result"
    }
   ],
   "source": [
    "#Determining the influence of each attribute on the output\n",
    "print(\"Feature importances:\")\n",
    "imp_input=pd.Series(model.feature_importances_,index=predictor_var).sort_values(ascending=False)\n",
    "imp_input"
   ]
  },
  {
   "cell_type": "markdown",
   "metadata": {},
   "source": [
    "### Predicting the match winner using Random Forest Classifier"
   ]
  },
  {
   "cell_type": "code",
   "execution_count": 42,
   "metadata": {},
   "outputs": [
    {
     "name": "stderr",
     "output_type": "stream",
     "text": [
      "C:\\Users\\polep\\Anaconda3\\lib\\site-packages\\ipykernel_launcher.py:2: DataConversionWarning: A column-vector y was passed when a 1d array was expected. Please change the shape of y to (n_samples,), for example using ravel().\n",
      "  \n"
     ]
    },
    {
     "name": "stdout",
     "output_type": "stream",
     "text": [
      "Enter the team1:MI\n",
      "Enter the team2:SRH\n",
      "Enter the toss winner:SRH\n",
      "The predicted winner is: SRH\n"
     ]
    }
   ],
   "source": [
    "rf = RandomForestClassifier(n_estimators=100)#no of trees\n",
    "rf.fit(df[predictor_var],df[outcome_var])\n",
    "rf_pred = rf.predict(df[predictor_var])\n",
    "\n",
    "dicVal = encode['winner']\n",
    "#print(dicVal['MI']) #key value\n",
    "#print(list(dicVal.keys())[list(dicVal.values()).index(1)]) #find key by value search \n",
    "\n",
    "team_venue={'MI':'22','KKR':'21','RCB':'2','DC':'14','CSK':'7','RR':'16','DD':'9',\"GL\":'1','KXIP':'6','SRH':'14','RPS':'25','KTK':'20','PW':'25'}\n",
    "\n",
    "#'team1', 'team2', 'venue', 'toss_winner','city','toss_decision'\n",
    "team1=input(\"Enter the team1:\")\n",
    "if team1 in dicVal:\n",
    "    team2=input(\"Enter the team2:\")\n",
    "    if team2 in dicVal:\n",
    "        if team1!=team2:\n",
    "            toss_winner=input(\"Enter the toss winner:\")\n",
    "            if toss_winner in [team1,team2]:\n",
    "                input1=[dicVal[team1],dicVal[team2],team_venue[team1],dicVal[toss_winner],'2','1']\n",
    "                input1 = np.array(input1).reshape((1, -1))\n",
    "                output=rf.predict(input1)\n",
    "                pred_winner=list(dicVal.keys())[list(dicVal.values()).index(output)] #find key by value search output\n",
    "                if pred_winner in [team1,team2]:\n",
    "                    print(\"The predicted winner is:\",pred_winner)\n",
    "                else:\n",
    "                    print(\"The predicted winner is:\",toss_winner)\n",
    "            else:\n",
    "                print(\"Toss winner must either be Team1 or Team2\")\n",
    "        else:\n",
    "            print(\"Team1 and Team2 cannot be same\")\n",
    "    else:\n",
    "        print(\"Enter valid team name\")\n",
    "else:\n",
    "    print(\"Enter valid team name\")"
   ]
  },
  {
   "cell_type": "code",
   "execution_count": null,
   "metadata": {},
   "outputs": [],
   "source": []
  }
 ],
 "metadata": {
  "celltoolbar": "Raw Cell Format",
  "kernelspec": {
   "display_name": "Python 3",
   "language": "python",
   "name": "python3"
  },
  "language_info": {
   "codemirror_mode": {
    "name": "ipython",
    "version": 3
   },
   "file_extension": ".py",
   "mimetype": "text/x-python",
   "name": "python",
   "nbconvert_exporter": "python",
   "pygments_lexer": "ipython3",
   "version": "3.8.3"
  }
 },
 "nbformat": 4,
 "nbformat_minor": 2
}
